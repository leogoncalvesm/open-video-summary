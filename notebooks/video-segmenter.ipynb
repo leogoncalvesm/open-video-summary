{
 "cells": [
  {
   "cell_type": "code",
   "execution_count": 2,
   "metadata": {},
   "outputs": [],
   "source": [
    "import gdown\n",
    "from pathlib import Path\n",
    "from zipfile import ZipFile\n",
    "\n",
    "from open_video_summary.parsers.video import VideoLoader, VideoDumper\n",
    "from open_video_summary.core.segmenter.video_segmenter import VideoSegmenter"
   ]
  },
  {
   "cell_type": "markdown",
   "metadata": {},
   "source": [
    "# Unzipping sample dataset video files"
   ]
  },
  {
   "cell_type": "code",
   "execution_count": null,
   "metadata": {},
   "outputs": [],
   "source": [
    "zip_path = (Path(DataPaths.RAW_PATH) / \"bebe_real.zip\").as_posix()\n",
    "extract_path = (Path(DataPaths.RAW_PATH)).as_posix()\n",
    "\n",
    "with ZipFile(zip_path, \"r\") as zip_ref:\n",
    "    zip_ref.extractall(extract_path)\n",
    "\n",
    "processed_data = Path(DataPaths.RAW_PATH) / \"bebe_real\" / \"bebe_real.json\"\n",
    "processed_data.rename(Path(DataPaths.PROCESSED_PATH) / \"bebe_real.json\")"
   ]
  },
  {
   "cell_type": "markdown",
   "metadata": {},
   "source": [
    "# Loading data, segmenting videos, and saving output file"
   ]
  },
  {
   "cell_type": "code",
   "execution_count": null,
   "metadata": {},
   "outputs": [],
   "source": [
    "dataset_videos_path = (Path(DataPaths.RAW_PATH) / \"bebe_real\").as_posix()\n",
    "dataset_json_path = (Path(DataPaths.PROCESSED_PATH) / \"bebe_real.json\").as_posix()\n",
    "\n",
    "video_segmenter = VideoSegmenter(\n",
    "    min_segment_length=5,\n",
    "    max_segment_length=30,\n",
    "    max_subtopics=10\n",
    ")\n",
    "\n",
    "videos = [\n",
    "    video_segmenter.create_video_segments(raw_video)\n",
    "    for raw_video in VideoLoader.load_videos_from_directory(dataset_videos_path)\n",
    "]\n",
    "videos\n",
    "VideoDumper.dump_videos_to_json(videos, dataset_json_path)"
   ]
  }
 ],
 "metadata": {
  "kernelspec": {
   "display_name": ".venv",
   "language": "python",
   "name": "python3"
  },
  "language_info": {
   "codemirror_mode": {
    "name": "ipython",
    "version": 3
   },
   "file_extension": ".py",
   "mimetype": "text/x-python",
   "name": "python",
   "nbconvert_exporter": "python",
   "pygments_lexer": "ipython3",
   "version": "3.11.7"
  }
 },
 "nbformat": 4,
 "nbformat_minor": 2
}
