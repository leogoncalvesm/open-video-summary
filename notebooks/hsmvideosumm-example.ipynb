{
 "cells": [
  {
   "cell_type": "code",
   "execution_count": 1,
   "metadata": {},
   "outputs": [],
   "source": [
    "import gdown\n",
    "from pathlib import Path\n",
    "from zipfile import ZipFile\n",
    "\n",
    "from open_video_summary.utils.config import DataPaths, PROJECT_DIR\n",
    "from open_video_summary.parsers.video import VideoLoader, SummaryWriter"
   ]
  },
  {
   "cell_type": "markdown",
   "metadata": {},
   "source": [
    "# Unzipping sample dataset video files"
   ]
  },
  {
   "cell_type": "code",
   "execution_count": null,
   "metadata": {},
   "outputs": [],
   "source": [
    "# Downloading pretrained subjectivity classifier model from Google Drive\n",
    "\n",
    "zip_file_id = \"1nvUTbcjvG3E3LEOG4ccDUZb75KqrmC4Q\"\n",
    "output_zip_path = (Path(PROJECT_DIR) / \"models\" / \"subjectivity_classifier.zip\").as_posix()\n",
    "\n",
    "gdown.download(id=zip_file_id, output=output_zip_path)"
   ]
  },
  {
   "cell_type": "code",
   "execution_count": 5,
   "metadata": {},
   "outputs": [],
   "source": [
    "# Unzipping tensorflow model\n",
    "\n",
    "extract_path = (Path(PROJECT_DIR) / \"models\").as_posix()\n",
    "\n",
    "with ZipFile(output_zip_path, \"r\") as zip_ref:\n",
    "    zip_ref.extractall(extract_path)"
   ]
  },
  {
   "cell_type": "markdown",
   "metadata": {},
   "source": [
    "# Downloading Subjectivity Classification model\n",
    "\n",
    "More sample datasets available in [this link](https://drive.google.com/drive/folders/1y19ih3j36UqXlWFcgyxNXsNWluE3lky6?usp=drive_link)"
   ]
  },
  {
   "cell_type": "code",
   "execution_count": null,
   "metadata": {},
   "outputs": [],
   "source": [
    "zip_path = (Path(DataPaths.RAW_PATH) / \"bebe_real.zip\").as_posix()\n",
    "extract_path = (Path(DataPaths.RAW_PATH)).as_posix()\n",
    "\n",
    "with ZipFile(zip_path, \"r\") as zip_ref:\n",
    "    zip_ref.extractall(extract_path)\n",
    "\n",
    "processed_data = Path(DataPaths.RAW_PATH) / \"bebe_real\" / \"bebe_real.json\"\n",
    "processed_data.rename(Path(DataPaths.PROCESSED_PATH) / \"bebe_real.json\")"
   ]
  },
  {
   "cell_type": "markdown",
   "metadata": {},
   "source": [
    "# Loading data, summarizing videos, and saving output video file"
   ]
  },
  {
   "cell_type": "code",
   "execution_count": null,
   "metadata": {},
   "outputs": [],
   "source": [
    "from open_video_summary.core.summarizers import HSMVideoSumm\n",
    "\n",
    "dataset_json_path = (Path(DataPaths.PROCESSED_PATH) / \"bebe_real.json\").as_posix()\n",
    "output_video_path = (Path(PROJECT_DIR) / \"bebe_real_summary.mp4\").as_posix()\n",
    "\n",
    "videos = VideoLoader.load_videos_from_json(dataset_json_path)\n",
    "video_summary = HSMVideoSumm.summarize(\n",
    "    videos=videos,\n",
    "    title=\"Bebe Real Summary\",\n",
    "    output_path=output_video_path,\n",
    ")\n",
    "SummaryWriter.write_video_summary(video_summary)"
   ]
  }
 ],
 "metadata": {
  "kernelspec": {
   "display_name": "open-video-summary-7ffq4RL3-py3.11",
   "language": "python",
   "name": "python3"
  },
  "language_info": {
   "codemirror_mode": {
    "name": "ipython",
    "version": 3
   },
   "file_extension": ".py",
   "mimetype": "text/x-python",
   "name": "python",
   "nbconvert_exporter": "python",
   "pygments_lexer": "ipython3",
   "version": "3.11.7"
  }
 },
 "nbformat": 4,
 "nbformat_minor": 2
}
