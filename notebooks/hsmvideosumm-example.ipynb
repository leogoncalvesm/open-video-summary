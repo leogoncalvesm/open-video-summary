{
 "cells": [
  {
   "cell_type": "code",
   "execution_count": 3,
   "metadata": {},
   "outputs": [],
   "source": [
    "from zipfile import ZipFile\n",
    "from open_video_summary.utils.config import DataPaths\n",
    "\n",
    "with ZipFile(f\"{DataPaths.RAW_PATH}/bebe_real.zip\", \"r\") as zip_ref:\n",
    "    zip_ref.extractall(f\"{DataPaths.RAW_PATH}/bebe_real\")"
   ]
  },
  {
   "cell_type": "code",
   "execution_count": 4,
   "metadata": {},
   "outputs": [
    {
     "name": "stderr",
     "output_type": "stream",
     "text": [
      "2025-02-01 16:48:18.472665: E external/local_xla/xla/stream_executor/cuda/cuda_fft.cc:485] Unable to register cuFFT factory: Attempting to register factory for plugin cuFFT when one has already been registered\n",
      "2025-02-01 16:48:18.483384: E external/local_xla/xla/stream_executor/cuda/cuda_dnn.cc:8454] Unable to register cuDNN factory: Attempting to register factory for plugin cuDNN when one has already been registered\n",
      "2025-02-01 16:48:18.486564: E external/local_xla/xla/stream_executor/cuda/cuda_blas.cc:1452] Unable to register cuBLAS factory: Attempting to register factory for plugin cuBLAS when one has already been registered\n",
      "2025-02-01 16:48:18.495452: I tensorflow/core/platform/cpu_feature_guard.cc:210] This TensorFlow binary is optimized to use available CPU instructions in performance-critical operations.\n",
      "To enable the following instructions: AVX2 FMA, in other operations, rebuild TensorFlow with the appropriate compiler flags.\n",
      "2025-02-01 16:48:19.098405: W tensorflow/compiler/tf2tensorrt/utils/py_utils.cc:38] TF-TRT Warning: Could not find TensorRT\n",
      "/home/leo/.cache/pypoetry/virtualenvs/open-video-summary-7ffq4RL3-py3.11/lib/python3.11/site-packages/tqdm/auto.py:21: TqdmWarning: IProgress not found. Please update jupyter and ipywidgets. See https://ipywidgets.readthedocs.io/en/stable/user_install.html\n",
      "  from .autonotebook import tqdm as notebook_tqdm\n",
      "2025-02-01 16:48:21,855 - open_video_summary.utils.logger - INFO - Source videos set.\n",
      "2025-02-01 16:48:21,855 - open_video_summary.utils.logger - INFO - Retrieved 3 videos to execute Introduction criteria.\n",
      "2025-02-01 16:48:21,856 - open_video_summary.utils.logger - INFO - Looking for shortest introduction.\n",
      "2025-02-01 16:48:21,856 - open_video_summary.utils.logger - INFO - Retrieving final second for intro in video Bebe Real - Jornal da Record.\n",
      "2025-02-01 16:48:22,818 - open_video_summary.utils.logger - INFO - Retrieving final second for intro in video Bebe Real - Jornal Nacional.\n",
      "2025-02-01 16:48:23,658 - open_video_summary.utils.logger - INFO - Added video segment to 'discard' set.\n",
      "2025-02-01 16:48:23,659 - open_video_summary.utils.logger - INFO - Retrieving final second for intro in video Bebe Real - Jornal da Band.\n",
      "2025-02-01 16:48:24,246 - open_video_summary.utils.logger - INFO - Added video segment to 'discard' set.\n",
      "2025-02-01 16:48:24,247 - open_video_summary.utils.logger - INFO - Found shortest introduction, including segments to output.\n",
      "2025-02-01 16:48:24,247 - open_video_summary.utils.logger - INFO - Added video segment to output.\n",
      "2025-02-01 16:48:24,248 - open_video_summary.utils.logger - INFO - Found 3 videos to execute ObjectContentSubjectivity criteria.\n",
      "2025-02-01 16:48:24,249 - open_video_summary.utils.logger - INFO - Detecting object in video /home/leo/phd/repos/open-video-summary/data/raw/bebe_real/jornal_da_record.mp4 from 0.6 to 41.9.\n",
      "2025-02-01 16:48:24,774 - open_video_summary.utils.logger - INFO - Segment contains object.\n",
      "2025-02-01 16:48:24,774 - open_video_summary.utils.logger - INFO - Classifying subjectivity in segment content.\n",
      "WARNING: All log messages before absl::InitializeLog() is called are written to STDERR\n",
      "I0000 00:00:1738442905.226935  180564 cuda_executor.cc:1001] could not open file to read NUMA node: /sys/bus/pci/devices/0000:05:00.0/numa_node\n",
      "Your kernel may have been built without NUMA support.\n",
      "2025-02-01 16:48:25.227844: W tensorflow/core/common_runtime/gpu/gpu_device.cc:2343] Cannot dlopen some GPU libraries. Please make sure the missing libraries mentioned above are installed properly if you would like to use GPU. Follow the guide at https://www.tensorflow.org/install/gpu for how to download and setup the required libraries for your platform.\n",
      "Skipping registering GPU devices...\n",
      "2025-02-01 16:48:25,241 - open_video_summary.utils.logger - INFO - Content is not subjective.\n",
      "2025-02-01 16:48:25,241 - open_video_summary.utils.logger - INFO - Detecting object in video /home/leo/phd/repos/open-video-summary/data/raw/bebe_real/jornal_da_record.mp4 from 42.28 to 64.42.\n",
      "2025-02-01 16:48:26,045 - open_video_summary.utils.logger - INFO - Segment contains object.\n",
      "2025-02-01 16:48:26,047 - open_video_summary.utils.logger - INFO - Classifying subjectivity in segment content.\n",
      "2025-02-01 16:48:26,057 - open_video_summary.utils.logger - INFO - Content is not subjective.\n",
      "2025-02-01 16:48:26,057 - open_video_summary.utils.logger - INFO - Detecting object in video /home/leo/phd/repos/open-video-summary/data/raw/bebe_real/jornal_da_record.mp4 from 66.48 to 82.06.\n",
      "2025-02-01 16:48:27,096 - open_video_summary.utils.logger - INFO - Segment contains object.\n",
      "2025-02-01 16:48:27,097 - open_video_summary.utils.logger - INFO - Classifying subjectivity in segment content.\n",
      "2025-02-01 16:48:27,107 - open_video_summary.utils.logger - INFO - Content is subjective.\n",
      "2025-02-01 16:48:27,108 - open_video_summary.utils.logger - INFO - Added video segment to 'discard' set.\n",
      "2025-02-01 16:48:27,108 - open_video_summary.utils.logger - INFO - Detecting object in video /home/leo/phd/repos/open-video-summary/data/raw/bebe_real/jornal_nacional.mp4 from 7.46 to 22.64.\n",
      "2025-02-01 16:48:27,491 - open_video_summary.utils.logger - INFO - Segment contains object.\n",
      "2025-02-01 16:48:27,491 - open_video_summary.utils.logger - INFO - Classifying subjectivity in segment content.\n",
      "2025-02-01 16:48:27,503 - open_video_summary.utils.logger - INFO - Content is not subjective.\n",
      "2025-02-01 16:48:27,504 - open_video_summary.utils.logger - INFO - Detecting object in video /home/leo/phd/repos/open-video-summary/data/raw/bebe_real/jornal_nacional.mp4 from 22.64 to 33.2.\n",
      "2025-02-01 16:48:28,066 - open_video_summary.utils.logger - INFO - Segment contains object.\n",
      "2025-02-01 16:48:28,067 - open_video_summary.utils.logger - INFO - Classifying subjectivity in segment content.\n",
      "2025-02-01 16:48:28,078 - open_video_summary.utils.logger - INFO - Content is not subjective.\n",
      "2025-02-01 16:48:28,079 - open_video_summary.utils.logger - INFO - Detecting object in video /home/leo/phd/repos/open-video-summary/data/raw/bebe_real/jornal_nacional.mp4 from 34.68 to 67.48.\n",
      "2025-02-01 16:48:28,943 - open_video_summary.utils.logger - INFO - Segment contains object.\n",
      "2025-02-01 16:48:28,944 - open_video_summary.utils.logger - INFO - Classifying subjectivity in segment content.\n",
      "2025-02-01 16:48:28,959 - open_video_summary.utils.logger - INFO - Content is not subjective.\n",
      "2025-02-01 16:48:28,959 - open_video_summary.utils.logger - INFO - Detecting object in video /home/leo/phd/repos/open-video-summary/data/raw/bebe_real/jornal_da_band.mp4 from 10.42 to 24.64.\n",
      "2025-02-01 16:48:29,443 - open_video_summary.utils.logger - INFO - Segment contains object.\n",
      "2025-02-01 16:48:29,444 - open_video_summary.utils.logger - INFO - Classifying subjectivity in segment content.\n",
      "2025-02-01 16:48:29,453 - open_video_summary.utils.logger - INFO - Content is not subjective.\n",
      "2025-02-01 16:48:29,454 - open_video_summary.utils.logger - INFO - Detecting object in video /home/leo/phd/repos/open-video-summary/data/raw/bebe_real/jornal_da_band.mp4 from 26.18 to 51.2.\n",
      "2025-02-01 16:48:30,339 - open_video_summary.utils.logger - INFO - Segment contains object.\n",
      "2025-02-01 16:48:30,341 - open_video_summary.utils.logger - INFO - Classifying subjectivity in segment content.\n",
      "2025-02-01 16:48:30,354 - open_video_summary.utils.logger - INFO - Content is not subjective.\n",
      "2025-02-01 16:48:30,355 - open_video_summary.utils.logger - INFO - Found 3 videos to execute ContentBasedRedundancy criteria.\n",
      "2025-02-01 16:48:30,356 - open_video_summary.utils.logger - INFO - Generating bag-of-words DataFrame for videos found.\n",
      "2025-02-01 16:48:30,360 - open_video_summary.utils.logger - INFO - Calculating correlations DataFrame from bag-of-words.\n",
      "2025-02-01 16:48:30,367 - open_video_summary.utils.logger - INFO - Finding redundant segments from correlations.\n",
      "/home/leo/phd/repos/open-video-summary/open_video_summary/core/selection_criteria/redundancy.py:101: FutureWarning: The provided callable <built-in function max> is currently using SeriesGroupBy.max. In a future version of pandas, the provided callable will be used directly. To keep current behavior pass the string \"max\" instead.\n",
      "  correlations.groupby([\"video_index\", \"video_index_col\"])[\"value\"].transform(\n",
      "/home/leo/phd/repos/open-video-summary/open_video_summary/core/selection_criteria/redundancy.py:108: SettingWithCopyWarning: \n",
      "A value is trying to be set on a copy of a slice from a DataFrame.\n",
      "Try using .loc[row_indexer,col_indexer] = value instead\n",
      "\n",
      "See the caveats in the documentation: https://pandas.pydata.org/pandas-docs/stable/user_guide/indexing.html#returning-a-view-versus-a-copy\n",
      "  redundancies[\"video\"] = tuple(\n",
      "/home/leo/phd/repos/open-video-summary/open_video_summary/core/selection_criteria/redundancy.py:111: SettingWithCopyWarning: \n",
      "A value is trying to be set on a copy of a slice from a DataFrame.\n",
      "Try using .loc[row_indexer,col_indexer] = value instead\n",
      "\n",
      "See the caveats in the documentation: https://pandas.pydata.org/pandas-docs/stable/user_guide/indexing.html#returning-a-view-versus-a-copy\n",
      "  redundancies[\"match\"] = tuple(\n",
      "2025-02-01 16:48:30,370 - open_video_summary.utils.logger - INFO - Including cluster with 2 elements to be chosen from.\n",
      "2025-02-01 16:48:30,370 - open_video_summary.utils.logger - INFO - Added video segments to 'pick' set.\n",
      "2025-02-01 16:48:30,371 - open_video_summary.utils.logger - INFO - Including cluster with 2 elements to be chosen from.\n",
      "2025-02-01 16:48:30,371 - open_video_summary.utils.logger - INFO - Added video segments to 'pick' set.\n",
      "2025-02-01 16:48:30,371 - open_video_summary.utils.logger - INFO - Retrieved 2 cluster to execute QualityPick criteria.\n",
      "2025-02-01 16:48:30,372 - open_video_summary.utils.logger - INFO - Extracting visual features from segments.\n",
      "2025-02-01 16:49:37,230 - open_video_summary.utils.logger - INFO - Generating Bag-of-Visual-Words for 2 segments.\n",
      "2025-02-01 16:49:37,233 - open_video_summary.utils.logger - INFO - Fitting KMeans algorithm for Bag-of-Visual-Words generated.\n",
      "2025-02-01 16:49:37,234 - open_video_summary.utils.logger - INFO - Fitting KMeans...\n",
      "2025-02-01 16:49:37,625 - open_video_summary.utils.logger - INFO - Retrieving top-1 segments from cluster.\n",
      "2025-02-01 16:49:37,628 - open_video_summary.utils.logger - INFO - Added video segment to 'include' set.\n",
      "2025-02-01 16:49:37,628 - open_video_summary.utils.logger - INFO - Extracting visual features from segments.\n",
      "2025-02-01 16:51:14,967 - open_video_summary.utils.logger - INFO - Generating Bag-of-Visual-Words for 2 segments.\n",
      "2025-02-01 16:51:14,969 - open_video_summary.utils.logger - INFO - Fitting KMeans algorithm for Bag-of-Visual-Words generated.\n",
      "2025-02-01 16:51:14,970 - open_video_summary.utils.logger - INFO - Fitting KMeans...\n",
      "2025-02-01 16:51:15,415 - open_video_summary.utils.logger - INFO - Retrieving top-1 segments from cluster.\n",
      "2025-02-01 16:51:15,418 - open_video_summary.utils.logger - INFO - Added video segment to 'include' set.\n",
      "2025-02-01 16:51:15,419 - open_video_summary.utils.logger - INFO - Found 2 segments to execute ClusterBasedChronology criteria.\n",
      "2025-02-01 16:51:15,419 - open_video_summary.utils.logger - INFO - Found 2 clusters to compare segments chronology.\n",
      "2025-02-01 16:51:15,420 - open_video_summary.utils.logger - INFO - Added video segment to output.\n",
      "2025-02-01 16:51:15,420 - open_video_summary.utils.logger - INFO - Added video segment to output.\n"
     ]
    }
   ],
   "source": [
    "from open_video_summary.parsers.video import VideoLoader\n",
    "from open_video_summary.core.summarizers import HSMVideoSumm\n",
    "from open_video_summary.utils.config import DataPaths, PROJECT_DIR\n",
    "\n",
    "videos = VideoLoader.load_videos_from_json(f\"{DataPaths.PROCESSED_PATH}/bebe_real.json\")\n",
    "video_summary = HSMVideoSumm.summarize(\n",
    "    videos=videos,\n",
    "    title=\"Bebe Real Summary\",\n",
    "    output_path=f\"{PROJECT_DIR}/bebe_real_summary.mp4\",\n",
    ")"
   ]
  },
  {
   "cell_type": "code",
   "execution_count": 10,
   "metadata": {},
   "outputs": [
    {
     "data": {
      "text/plain": [
       "{'name': 'Bebe Real Summary',\n",
       " 'path': '/home/leo/phd/repos/open-video-summary/bebe_real_summary.mp4',\n",
       " 'topics': [\"Description of the baby's temperament\",\n",
       "  \"Birth of Prince Harry and Meghan Markle's Baby\",\n",
       "  \"Birth of Prince Harry and Meghan Markle's Child\"],\n",
       " 'segments': [{'content': 'O Príncipe Harry e a duquesa Meghan Markle apresentaram hoje o filho recém-nascido.',\n",
       "   'start': 0.7,\n",
       "   'end': 5.66,\n",
       "   'order': 0,\n",
       "   'video_topic': \"Birth of Prince Harry and Meghan Markle's Child\",\n",
       "   'global_topic': '',\n",
       "   'video_path': '/home/leo/phd/repos/open-video-summary/data/raw/bebe_real/jornal_nacional.mp4'},\n",
       "  {'content': 'Na rápida aparição no castelo de Windsor, a duquesa de Sussex disse que o bebê é muito calmo, com temperamento doce. O príncipe brincou e disse que não sabe a quem ele puxou. Ele é realmente... Come and down. Ele ia saber a problema.',\n",
       "   'start': 10.42,\n",
       "   'end': 24.64,\n",
       "   'order': 1,\n",
       "   'video_topic': \"Description of the baby's temperament\",\n",
       "   'global_topic': '',\n",
       "   'video_path': '/home/leo/phd/repos/open-video-summary/data/raw/bebe_real/jornal_da_band.mp4'},\n",
       "  {'content': 'A Duquesa Meghan Markle e o Príncipe Harry apresentaram hoje o mais novo integrante da família real. Foi no colo do País sorridente que o mais novo bebê real foi apresentado ao mundo. E depois de se derreter e elogiar a mulher, foi a vez do Príncipe Harry ganhar palavras carinhosas da esposa.',\n",
       "   'start': 0.6,\n",
       "   'end': 41.9,\n",
       "   'order': 0,\n",
       "   'video_topic': \"Birth of Prince Harry and Meghan Markle's Baby\",\n",
       "   'global_topic': '',\n",
       "   'video_path': '/home/leo/phd/repos/open-video-summary/data/raw/bebe_real/jornal_da_record.mp4'}]}"
      ]
     },
     "execution_count": 10,
     "metadata": {},
     "output_type": "execute_result"
    }
   ],
   "source": [
    "from dataclasses import asdict\n",
    "asdict(video_summary)"
   ]
  },
  {
   "cell_type": "code",
   "execution_count": 7,
   "metadata": {},
   "outputs": [
    {
     "name": "stdout",
     "output_type": "stream",
     "text": [
      "{'video_found': True, 'audio_found': True, 'metadata': {'major_brand': 'isom', 'minor_version': '512', 'compatible_brands': 'isomiso2avc1mp41', 'encoder': 'Lavf58.20.100'}, 'inputs': [{'streams': [{'input_number': 0, 'stream_number': 0, 'stream_type': 'video', 'language': None, 'default': True, 'size': [1280, 720], 'bitrate': 1283, 'fps': 25.0, 'codec_name': 'h264', 'profile': '(High)', 'metadata': {'Metadata': '', 'handler_name': 'VideoHandler', 'vendor_id': '[0][0][0][0]'}}, {'input_number': 0, 'stream_number': 1, 'stream_type': 'audio', 'language': 'por', 'default': True, 'fps': 44100, 'bitrate': 128, 'metadata': {'Metadata': '', 'handler_name': 'SoundHandler', 'vendor_id': '[0][0][0][0]'}}], 'input_number': 0}], 'duration': 69.76, 'bitrate': 1420, 'start': 0.0, 'default_video_input_number': 0, 'default_video_stream_number': 0, 'video_codec_name': 'h264', 'video_profile': '(High)', 'video_size': [1280, 720], 'video_bitrate': 1283, 'video_fps': 25.0, 'default_audio_input_number': 0, 'default_audio_stream_number': 1, 'audio_fps': 44100, 'audio_bitrate': 128, 'video_duration': 69.76, 'video_n_frames': 1744}\n",
      "/home/leo/.cache/pypoetry/virtualenvs/open-video-summary-7ffq4RL3-py3.11/lib/python3.11/site-packages/imageio_ffmpeg/binaries/ffmpeg-linux-x86_64-v7.0.2 -i /home/leo/phd/repos/open-video-summary/data/raw/bebe_real/jornal_nacional.mp4 -loglevel error -f image2pipe -vf scale=1280:720 -sws_flags bicubic -pix_fmt rgb24 -vcodec rawvideo -\n",
      "{'video_found': True, 'audio_found': True, 'metadata': {'major_brand': 'isom', 'minor_version': '512', 'compatible_brands': 'isomiso2avc1mp41', 'encoder': 'Lavf58.20.100'}, 'inputs': [{'streams': [{'input_number': 0, 'stream_number': 0, 'stream_type': 'video', 'language': None, 'default': True, 'size': [1280, 720], 'bitrate': 1091, 'fps': 25.0, 'codec_name': 'h264', 'profile': '(High)', 'metadata': {'Metadata': '', 'handler_name': 'Core Media Video', 'vendor_id': '[0][0][0][0]'}}, {'input_number': 0, 'stream_number': 1, 'stream_type': 'audio', 'language': 'por', 'default': True, 'fps': 48000, 'bitrate': 128, 'metadata': {'Metadata': '', 'handler_name': 'Core Media Audio', 'vendor_id': '[0][0][0][0]'}}], 'input_number': 0}], 'duration': 51.46, 'bitrate': 1225, 'start': 0.0, 'default_video_input_number': 0, 'default_video_stream_number': 0, 'video_codec_name': 'h264', 'video_profile': '(High)', 'video_size': [1280, 720], 'video_bitrate': 1091, 'video_fps': 25.0, 'default_audio_input_number': 0, 'default_audio_stream_number': 1, 'audio_fps': 48000, 'audio_bitrate': 128, 'video_duration': 51.46, 'video_n_frames': 1286}\n",
      "/home/leo/.cache/pypoetry/virtualenvs/open-video-summary-7ffq4RL3-py3.11/lib/python3.11/site-packages/imageio_ffmpeg/binaries/ffmpeg-linux-x86_64-v7.0.2 -i /home/leo/phd/repos/open-video-summary/data/raw/bebe_real/jornal_da_band.mp4 -loglevel error -f image2pipe -vf scale=1280:720 -sws_flags bicubic -pix_fmt rgb24 -vcodec rawvideo -\n",
      "{'video_found': True, 'audio_found': True, 'metadata': {'major_brand': 'isom', 'minor_version': '512', 'compatible_brands': 'isomiso2avc1mp41', 'encoder': 'Lavf58.20.100'}, 'inputs': [{'streams': [{'input_number': 0, 'stream_number': 0, 'stream_type': 'video', 'language': None, 'default': True, 'size': [1280, 720], 'bitrate': 1091, 'fps': 25.0, 'codec_name': 'h264', 'profile': '(High)', 'metadata': {'Metadata': '', 'handler_name': 'Core Media Video', 'vendor_id': '[0][0][0][0]'}}, {'input_number': 0, 'stream_number': 1, 'stream_type': 'audio', 'language': 'por', 'default': True, 'fps': 48000, 'bitrate': 128, 'metadata': {'Metadata': '', 'handler_name': 'Core Media Audio', 'vendor_id': '[0][0][0][0]'}}], 'input_number': 0}], 'duration': 51.46, 'bitrate': 1225, 'start': 0.0, 'default_video_input_number': 0, 'default_video_stream_number': 0, 'video_codec_name': 'h264', 'video_profile': '(High)', 'video_size': [1280, 720], 'video_bitrate': 1091, 'video_fps': 25.0, 'default_audio_input_number': 0, 'default_audio_stream_number': 1, 'audio_fps': 48000, 'audio_bitrate': 128, 'video_duration': 51.46, 'video_n_frames': 1286}\n",
      "/home/leo/.cache/pypoetry/virtualenvs/open-video-summary-7ffq4RL3-py3.11/lib/python3.11/site-packages/imageio_ffmpeg/binaries/ffmpeg-linux-x86_64-v7.0.2 -ss 9.420000 -i /home/leo/phd/repos/open-video-summary/data/raw/bebe_real/jornal_da_band.mp4 -ss 1.000000 -loglevel error -f image2pipe -vf scale=1280:720 -sws_flags bicubic -pix_fmt rgb24 -vcodec rawvideo -\n",
      "{'video_found': True, 'audio_found': True, 'metadata': {'major_brand': 'isom', 'minor_version': '512', 'compatible_brands': 'isomiso2avc1mp41', 'encoder': 'Lavf58.20.100'}, 'inputs': [{'streams': [{'input_number': 0, 'stream_number': 0, 'stream_type': 'video', 'language': None, 'default': True, 'size': [1280, 720], 'bitrate': 1247, 'fps': 25.0, 'codec_name': 'h264', 'profile': '(High)', 'metadata': {'Metadata': '', 'handler_name': 'VideoHandler', 'vendor_id': '[0][0][0][0]'}}, {'input_number': 0, 'stream_number': 1, 'stream_type': 'audio', 'language': None, 'default': True, 'fps': 44100, 'bitrate': 128, 'metadata': {'Metadata': '', 'handler_name': 'SoundHandler', 'vendor_id': '[0][0][0][0]'}}], 'input_number': 0}], 'duration': 84.6, 'bitrate': 1384, 'start': 0.0, 'default_video_input_number': 0, 'default_video_stream_number': 0, 'video_codec_name': 'h264', 'video_profile': '(High)', 'video_size': [1280, 720], 'video_bitrate': 1247, 'video_fps': 25.0, 'default_audio_input_number': 0, 'default_audio_stream_number': 1, 'audio_fps': 44100, 'audio_bitrate': 128, 'video_duration': 84.6, 'video_n_frames': 2115}\n",
      "/home/leo/.cache/pypoetry/virtualenvs/open-video-summary-7ffq4RL3-py3.11/lib/python3.11/site-packages/imageio_ffmpeg/binaries/ffmpeg-linux-x86_64-v7.0.2 -i /home/leo/phd/repos/open-video-summary/data/raw/bebe_real/jornal_da_record.mp4 -loglevel error -f image2pipe -vf scale=1280:720 -sws_flags bicubic -pix_fmt rgb24 -vcodec rawvideo -\n",
      "MoviePy - Building video /home/leo/phd/repos/open-video-summary/bebe_real_summary.mp4.\n",
      "MoviePy - Writing audio in bebe_real_summaryTEMP_MPY_wvf_snd.mp3\n"
     ]
    },
    {
     "name": "stderr",
     "output_type": "stream",
     "text": [
      "                                                                      \r"
     ]
    },
    {
     "name": "stdout",
     "output_type": "stream",
     "text": [
      "MoviePy - Done.\n",
      "MoviePy - Writing video /home/leo/phd/repos/open-video-summary/bebe_real_summary.mp4\n",
      "\n"
     ]
    },
    {
     "name": "stderr",
     "output_type": "stream",
     "text": [
      "                                                                           "
     ]
    },
    {
     "name": "stdout",
     "output_type": "stream",
     "text": [
      "MoviePy - Done !\n",
      "MoviePy - video ready /home/leo/phd/repos/open-video-summary/bebe_real_summary.mp4\n"
     ]
    },
    {
     "name": "stderr",
     "output_type": "stream",
     "text": [
      "\r"
     ]
    }
   ],
   "source": [
    "from moviepy import VideoFileClip, concatenate_videoclips\n",
    "from moviepy.video.fx import FadeIn, FadeOut\n",
    "\n",
    "fadein_duration: float = 0.5\n",
    "fadeout_duration: float = 0.5\n",
    "\n",
    "fadein_fx = FadeIn(duration=fadein_duration)\n",
    "fadeout_fx = FadeOut(duration=fadeout_duration)\n",
    "\n",
    "clips_list = []\n",
    "for segment in video_summary.segments:\n",
    "    clip = VideoFileClip(segment.video_path).subclipped(\n",
    "        segment.start, segment.end\n",
    "    )\n",
    "    clip = fadein_fx.apply(clip)\n",
    "    clip = fadeout_fx.apply(clip)\n",
    "    clips_list.append(clip)\n",
    "\n",
    "final_clip = concatenate_videoclips(clips_list)\n",
    "final_clip.write_videofile(video_summary.path)"
   ]
  }
 ],
 "metadata": {
  "kernelspec": {
   "display_name": "open-video-summary-7ffq4RL3-py3.11",
   "language": "python",
   "name": "python3"
  },
  "language_info": {
   "codemirror_mode": {
    "name": "ipython",
    "version": 3
   },
   "file_extension": ".py",
   "mimetype": "text/x-python",
   "name": "python",
   "nbconvert_exporter": "python",
   "pygments_lexer": "ipython3",
   "version": "3.11.7"
  }
 },
 "nbformat": 4,
 "nbformat_minor": 2
}
